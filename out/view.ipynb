{
 "cells": [
  {
   "cell_type": "code",
   "execution_count": 2,
   "metadata": {},
   "outputs": [],
   "source": [
    "import pandas as pd"
   ]
  },
  {
   "cell_type": "code",
   "execution_count": 3,
   "metadata": {},
   "outputs": [
    {
     "data": {
      "text/html": [
       "<div>\n",
       "<style scoped>\n",
       "    .dataframe tbody tr th:only-of-type {\n",
       "        vertical-align: middle;\n",
       "    }\n",
       "\n",
       "    .dataframe tbody tr th {\n",
       "        vertical-align: top;\n",
       "    }\n",
       "\n",
       "    .dataframe thead th {\n",
       "        text-align: right;\n",
       "    }\n",
       "</style>\n",
       "<table border=\"1\" class=\"dataframe\">\n",
       "  <thead>\n",
       "    <tr style=\"text-align: right;\">\n",
       "      <th></th>\n",
       "      <th>datetime</th>\n",
       "      <th>temp</th>\n",
       "      <th>feelslike</th>\n",
       "      <th>humidity</th>\n",
       "      <th>precip</th>\n",
       "      <th>snow</th>\n",
       "      <th>windspeed</th>\n",
       "      <th>conditions</th>\n",
       "      <th>icon</th>\n",
       "    </tr>\n",
       "  </thead>\n",
       "  <tbody>\n",
       "    <tr>\n",
       "      <th>0</th>\n",
       "      <td>2018-01-01 00:00:00</td>\n",
       "      <td>-12.6</td>\n",
       "      <td>-20.8</td>\n",
       "      <td>55.55</td>\n",
       "      <td>0</td>\n",
       "      <td>0</td>\n",
       "      <td>18.2</td>\n",
       "      <td>0</td>\n",
       "      <td>0</td>\n",
       "    </tr>\n",
       "    <tr>\n",
       "      <th>1</th>\n",
       "      <td>2018-01-01 01:00:00</td>\n",
       "      <td>-12.6</td>\n",
       "      <td>-20.9</td>\n",
       "      <td>55.97</td>\n",
       "      <td>0</td>\n",
       "      <td>0</td>\n",
       "      <td>18.6</td>\n",
       "      <td>0</td>\n",
       "      <td>0</td>\n",
       "    </tr>\n",
       "    <tr>\n",
       "      <th>2</th>\n",
       "      <td>2018-01-01 02:00:00</td>\n",
       "      <td>-12.7</td>\n",
       "      <td>-21.1</td>\n",
       "      <td>55.91</td>\n",
       "      <td>0</td>\n",
       "      <td>0</td>\n",
       "      <td>19.4</td>\n",
       "      <td>0</td>\n",
       "      <td>0</td>\n",
       "    </tr>\n",
       "    <tr>\n",
       "      <th>3</th>\n",
       "      <td>2018-01-01 03:00:00</td>\n",
       "      <td>-13.2</td>\n",
       "      <td>-21.2</td>\n",
       "      <td>58.00</td>\n",
       "      <td>0</td>\n",
       "      <td>0</td>\n",
       "      <td>17.3</td>\n",
       "      <td>0</td>\n",
       "      <td>0</td>\n",
       "    </tr>\n",
       "    <tr>\n",
       "      <th>4</th>\n",
       "      <td>2018-01-01 04:00:00</td>\n",
       "      <td>-13.3</td>\n",
       "      <td>-20.9</td>\n",
       "      <td>56.10</td>\n",
       "      <td>0</td>\n",
       "      <td>0</td>\n",
       "      <td>15.6</td>\n",
       "      <td>0</td>\n",
       "      <td>0</td>\n",
       "    </tr>\n",
       "  </tbody>\n",
       "</table>\n",
       "</div>"
      ],
      "text/plain": [
       "              datetime  temp  feelslike  humidity  precip  snow  windspeed  \\\n",
       "0  2018-01-01 00:00:00 -12.6      -20.8     55.55       0     0       18.2   \n",
       "1  2018-01-01 01:00:00 -12.6      -20.9     55.97       0     0       18.6   \n",
       "2  2018-01-01 02:00:00 -12.7      -21.1     55.91       0     0       19.4   \n",
       "3  2018-01-01 03:00:00 -13.2      -21.2     58.00       0     0       17.3   \n",
       "4  2018-01-01 04:00:00 -13.3      -20.9     56.10       0     0       15.6   \n",
       "\n",
       "   conditions  icon  \n",
       "0           0     0  \n",
       "1           0     0  \n",
       "2           0     0  \n",
       "3           0     0  \n",
       "4           0     0  "
      ]
     },
     "execution_count": 3,
     "metadata": {},
     "output_type": "execute_result"
    }
   ],
   "source": [
    "df = pd.read_csv('weather.csv')\n",
    "\n",
    "df.head(5)"
   ]
  },
  {
   "cell_type": "code",
   "execution_count": 4,
   "metadata": {},
   "outputs": [
    {
     "name": "stdout",
     "output_type": "stream",
     "text": [
      "<class 'pandas.core.frame.DataFrame'>\n",
      "RangeIndex: 24 entries, 0 to 23\n",
      "Data columns (total 9 columns):\n",
      " #   Column      Non-Null Count  Dtype  \n",
      "---  ------      --------------  -----  \n",
      " 0   datetime    24 non-null     object \n",
      " 1   temp        24 non-null     float64\n",
      " 2   feelslike   24 non-null     float64\n",
      " 3   humidity    24 non-null     float64\n",
      " 4   precip      24 non-null     int64  \n",
      " 5   snow        24 non-null     int64  \n",
      " 6   windspeed   24 non-null     float64\n",
      " 7   conditions  24 non-null     int64  \n",
      " 8   icon        24 non-null     int64  \n",
      "dtypes: float64(4), int64(4), object(1)\n",
      "memory usage: 1.8+ KB\n"
     ]
    }
   ],
   "source": [
    "df.info()"
   ]
  },
  {
   "cell_type": "code",
   "execution_count": 5,
   "metadata": {},
   "outputs": [
    {
     "name": "stdout",
     "output_type": "stream",
     "text": [
      "CREATE TABLE \"weather\" (\n",
      "\"datetime\" TEXT,\n",
      "  \"temp\" REAL,\n",
      "  \"feelslike\" REAL,\n",
      "  \"humidity\" REAL,\n",
      "  \"precip\" INTEGER,\n",
      "  \"snow\" INTEGER,\n",
      "  \"windspeed\" REAL,\n",
      "  \"conditions\" INTEGER,\n",
      "  \"icon\" INTEGER\n",
      ")\n"
     ]
    }
   ],
   "source": [
    "print(pd.io.sql.get_schema(df, name='weather'))"
   ]
  }
 ],
 "metadata": {
  "kernelspec": {
   "display_name": "Python 3.9.12 ('base')",
   "language": "python",
   "name": "python3"
  },
  "language_info": {
   "codemirror_mode": {
    "name": "ipython",
    "version": 3
   },
   "file_extension": ".py",
   "mimetype": "text/x-python",
   "name": "python",
   "nbconvert_exporter": "python",
   "pygments_lexer": "ipython3",
   "version": "3.9.12"
  },
  "orig_nbformat": 4,
  "vscode": {
   "interpreter": {
    "hash": "5f0ce51a8fa0afc60c9e4b966e3bc1e97cee447f242592f54f7cf2d7a2c8b21f"
   }
  }
 },
 "nbformat": 4,
 "nbformat_minor": 2
}
