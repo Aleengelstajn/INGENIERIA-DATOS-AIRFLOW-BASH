{
 "cells": [
  {
   "cell_type": "code",
   "execution_count": 8,
   "metadata": {},
   "outputs": [],
   "source": [
    "import urllib\n",
    "import os\n",
    "import csv\n",
    "import codecs\n",
    "import pandas as pd\n",
    "import numpy as np\n",
    "from datetime import timedelta"
   ]
  },
  {
   "cell_type": "code",
   "execution_count": 9,
   "metadata": {},
   "outputs": [],
   "source": [
    "initial_date = '2018-01-01'\n",
    "final_date = '2018-01-31'\n",
    "url = \"https://weather.visualcrossing.com/VisualCrossingWebServices/rest/services/timeline/New%20York/\" + initial_date + \"/\" + final_date + \"?unitGroup=metric&include=hours&key=HB4HE49PF5XCRSEHAULTVM73D&contentType=csv\""
   ]
  },
  {
   "cell_type": "code",
   "execution_count": 10,
   "metadata": {},
   "outputs": [],
   "source": [
    "try:\n",
    "    #ResultBytes = urllib.request.urlopen(\"https://weather.visualcrossing.com/VisualCrossingWebServices/rest/services/timeline/New%20York/2018-01-01/2018-01-01?unitGroup=metric&include=hours&key=HB4HE49PF5XCRSEHAULTVM73D&contentType=csv\")\n",
    "    ResultBytes = urllib.request.urlopen(url)\n",
    "    CSVText = csv.reader(codecs.iterdecode(ResultBytes, 'utf-8'))\n",
    "    # Parse the results as CSV\n",
    "    CSVText = csv.reader(codecs.iterdecode(ResultBytes, 'utf-8'))\n",
    "    # Parse the results as JSON\n",
    "    #jsonData = json.loads(ResultBytes.decode('utf-8'))\n",
    "except urllib.error.HTTPError  as e:\n",
    "  ErrorInfo= e.read().decode() \n",
    "  print('Error code: ', e.code, ErrorInfo)\n",
    "  sys.exit()\n",
    "except  urllib.error.URLError as e:\n",
    "  ErrorInfo= e.read().decode() \n",
    "  print('Error code: ', e.code,ErrorInfo)\n",
    "  sys.exit()\n"
   ]
  },
  {
   "cell_type": "code",
   "execution_count": 11,
   "metadata": {},
   "outputs": [],
   "source": [
    "a = []\n",
    "for i in CSVText:\n",
    "  a.append(i)\n"
   ]
  },
  {
   "cell_type": "code",
   "execution_count": 12,
   "metadata": {},
   "outputs": [],
   "source": [
    "# Crear dataframe y columnas\n",
    "df = pd.DataFrame()\n",
    "for idx, i in enumerate(a[0]):\n",
    "    df[i] = a[1][idx]\n"
   ]
  },
  {
   "cell_type": "code",
   "execution_count": 13,
   "metadata": {},
   "outputs": [],
   "source": [
    "# Agregar los registros al dataframe\n",
    "first = False\n",
    "for idx, i in enumerate(a):\n",
    "    if first:\n",
    "        df.loc[idx] = i\n",
    "    else:\n",
    "        first = True"
   ]
  },
  {
   "cell_type": "code",
   "execution_count": 14,
   "metadata": {},
   "outputs": [],
   "source": [
    "df.to_csv('weather.csv')"
   ]
  }
 ],
 "metadata": {
  "kernelspec": {
   "display_name": "Python 3.9.13 64-bit",
   "language": "python",
   "name": "python3"
  },
  "language_info": {
   "codemirror_mode": {
    "name": "ipython",
    "version": 3
   },
   "file_extension": ".py",
   "mimetype": "text/x-python",
   "name": "python",
   "nbconvert_exporter": "python",
   "pygments_lexer": "ipython3",
   "version": "3.9.13"
  },
  "orig_nbformat": 4,
  "vscode": {
   "interpreter": {
    "hash": "89f8f4da03b88366b24b3e615f25203f75fc591e3c4bb5e4e10f1e65da1c83de"
   }
  }
 },
 "nbformat": 4,
 "nbformat_minor": 2
}
