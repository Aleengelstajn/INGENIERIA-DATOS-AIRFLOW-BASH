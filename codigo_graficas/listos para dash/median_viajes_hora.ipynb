{
 "cells": [
  {
   "cell_type": "code",
   "execution_count": null,
   "metadata": {},
   "outputs": [],
   "source": [
    "import pandas as pd\n",
    "import numpy as np\n",
    "import plotly.graph_objects as go\n",
    "from pandarallel import pandarallel"
   ]
  },
  {
   "cell_type": "code",
   "execution_count": null,
   "metadata": {},
   "outputs": [],
   "source": [
    "d = pd.read_csv('datasets/taxi_api.csv')\n",
    "df = pd.DataFrame(pd.to_datetime(d.tpep_pickup_datetime))"
   ]
  },
  {
   "cell_type": "code",
   "execution_count": null,
   "metadata": {},
   "outputs": [],
   "source": [
    "def getDay(param):\n",
    "    return str(param.strftime(\"%d\"))\n",
    "\n",
    "def getHour(param):\n",
    "    return str(param.strftime(\"%H\"))"
   ]
  },
  {
   "cell_type": "code",
   "execution_count": null,
   "metadata": {},
   "outputs": [],
   "source": [
    "pandarallel.initialize()\n",
    "mask_dia = df.tpep_pickup_datetime.parallel_apply(getDay)\n",
    "mask_hora = df.tpep_pickup_datetime.parallel_apply(getHour)"
   ]
  },
  {
   "cell_type": "code",
   "execution_count": null,
   "metadata": {},
   "outputs": [],
   "source": [
    "# mask dia\n",
    "df['dia_hora'] = mask_dia\n",
    "df.dia_hora = df.dia_hora.astype('str')"
   ]
  },
  {
   "cell_type": "code",
   "execution_count": null,
   "metadata": {},
   "outputs": [],
   "source": [
    "#mask_hora\n",
    "df['hora'] = mask_hora\n",
    "df['dia'] = mask_dia\n",
    "df.hora = df.hora.astype('int')\n",
    "\n",
    "#horas_dia\n",
    "df.dia_hora = df.dia_hora + '-' + df.hora.astype('str')"
   ]
  },
  {
   "cell_type": "code",
   "execution_count": null,
   "metadata": {},
   "outputs": [],
   "source": [
    "d = df.groupby(['dia_hora','hora']).size()"
   ]
  },
  {
   "cell_type": "code",
   "execution_count": null,
   "metadata": {},
   "outputs": [],
   "source": [
    "statistics = pd.DataFrame(d.values, columns=['viajes_amount'])"
   ]
  },
  {
   "cell_type": "code",
   "execution_count": null,
   "metadata": {},
   "outputs": [],
   "source": [
    "# get index from statistics\n",
    "horas = np.zeros((d.values.shape[0],1))\n",
    "for idx, i in enumerate(d.index):\n",
    "    horas[idx] = i[1]\n",
    "\n",
    "statistics['hora'] = horas"
   ]
  },
  {
   "cell_type": "code",
   "execution_count": null,
   "metadata": {},
   "outputs": [],
   "source": [
    "days = statistics.groupby('hora').median().index\n",
    "y0 = statistics.groupby('hora').median().viajes_amount"
   ]
  },
  {
   "cell_type": "code",
   "execution_count": null,
   "metadata": {},
   "outputs": [],
   "source": [
    "fig = go.Figure([go.Bar(x=days, y = y0)])\n",
    "fig.show()"
   ]
  }
 ],
 "metadata": {
  "kernelspec": {
   "display_name": "Python 3.9.13 64-bit",
   "language": "python",
   "name": "python3"
  },
  "language_info": {
   "codemirror_mode": {
    "name": "ipython",
    "version": 3
   },
   "file_extension": ".py",
   "mimetype": "text/x-python",
   "name": "python",
   "nbconvert_exporter": "python",
   "pygments_lexer": "ipython3",
   "version": "3.9.13"
  },
  "orig_nbformat": 4,
  "vscode": {
   "interpreter": {
    "hash": "89f8f4da03b88366b24b3e615f25203f75fc591e3c4bb5e4e10f1e65da1c83de"
   }
  }
 },
 "nbformat": 4,
 "nbformat_minor": 2
}
