{
 "cells": [
  {
   "cell_type": "code",
   "execution_count": 1,
   "metadata": {},
   "outputs": [],
   "source": [
    "import pandas as pd\n",
    "import numpy as np\n",
    "import plotly.graph_objects as go"
   ]
  },
  {
   "cell_type": "code",
   "execution_count": 2,
   "metadata": {},
   "outputs": [],
   "source": [
    "df = pd.read_csv('./datasets/taxi_api.csv')"
   ]
  },
  {
   "cell_type": "code",
   "execution_count": 3,
   "metadata": {},
   "outputs": [],
   "source": [
    "df.drop(columns=['Unnamed: 0','datetime'], inplace=True)"
   ]
  },
  {
   "cell_type": "code",
   "execution_count": 4,
   "metadata": {},
   "outputs": [],
   "source": [
    "df.tpep_pickup_datetime = pd.to_datetime(df.tpep_pickup_datetime)\n",
    "df.tpep_dropoff_datetime = pd.to_datetime(df.tpep_dropoff_datetime)"
   ]
  },
  {
   "cell_type": "code",
   "execution_count": 5,
   "metadata": {},
   "outputs": [],
   "source": [
    "# Dias\n",
    "mask_dia = np.zeros((df.tpep_pickup_datetime.shape[0], 1))\n",
    "for idx, i in enumerate(df.tpep_pickup_datetime):\n",
    "    mask_dia[idx] =  str(i.strftime(\"%d\"))#+\"-\"+i.strftime(\"%H\")\n",
    "    \n",
    "mask_dia = mask_dia.sum(axis=1)\n",
    "df['dia_hora'] = mask_dia\n",
    "df.dia_hora = df.dia_hora.astype('str')\n",
    "\n",
    "# Horas\n",
    "mask_hora = np.zeros((df.tpep_pickup_datetime.shape[0], 1))\n",
    "for idx, i in enumerate(df.tpep_pickup_datetime):\n",
    "    mask_hora[idx] =  i.strftime(\"%H\")\n",
    "    \n",
    "mask_hora = mask_hora.sum(axis=1)\n",
    "df['hora'] = mask_hora\n",
    "df['dia'] = mask_dia\n",
    "df.hora = df.hora.astype('int')\n",
    "\n",
    "#horas_dia\n",
    "df.dia_hora = df.dia_hora + '-' + df.hora.astype('str')"
   ]
  },
  {
   "cell_type": "code",
   "execution_count": 6,
   "metadata": {},
   "outputs": [],
   "source": [
    "d = pd.DataFrame((df.groupby(['dia_hora','hora']).size()))\n",
    "statistics = pd.DataFrame(d.values, columns=['viajes_amount'])\n"
   ]
  },
  {
   "cell_type": "code",
   "execution_count": 7,
   "metadata": {},
   "outputs": [],
   "source": [
    "# get index from statistics\n",
    "horas = np.zeros((d.values.shape[0],1))\n",
    "for idx, i in enumerate(d.index):\n",
    "    horas[idx] = i[1]\n",
    "\n",
    "statistics['hora'] = horas"
   ]
  },
  {
   "cell_type": "code",
   "execution_count": 8,
   "metadata": {},
   "outputs": [],
   "source": [
    "f = statistics.hora.unique()\n",
    "\n",
    "boxes = list(range(0,24))\n",
    "h = f[[3, 1, 5, 6, 4, 0, 2]]\n",
    "\n",
    "for i in boxes:\n",
    "    boxes[i] = np.array(statistics.viajes_amount[statistics.hora == f[i]])"
   ]
  },
  {
   "cell_type": "code",
   "execution_count": 9,
   "metadata": {},
   "outputs": [],
   "source": [
    "f = statistics.hora.unique()\n",
    "f = np.sort(f)\n",
    "boxes = list(range(0,24))\n",
    "#h = f[[3, 1, 5, 6, 4, 0, 2]]\n",
    "\n",
    "for i in boxes:\n",
    "    boxes[i] = np.array(statistics.viajes_amount[statistics.hora == f[i]])"
   ]
  },
  {
   "cell_type": "code",
   "execution_count": 12,
   "metadata": {},
   "outputs": [],
   "source": [
    "f = list(range(0,24))"
   ]
  },
  {
   "cell_type": "code",
   "execution_count": 13,
   "metadata": {},
   "outputs": [
    {
     "data": {
      "application/vnd.plotly.v1+json": {
       "config": {
        "plotlyServerURL": "https://plot.ly"
       },
       "data": [
        {
         "marker": {
          "color": "blue"
         },
         "name": "0",
         "type": "box",
         "y": [
          15206,
          4774,
          5508,
          7668,
          11767,
          15040,
          6340,
          3570,
          4937,
          5893,
          8328,
          2732,
          13174,
          14520,
          2992,
          3780,
          4850,
          6250,
          8943,
          14332,
          15633,
          3722,
          3701,
          4418,
          5419,
          4493,
          3089,
          9829,
          10702,
          2913,
          5022
         ]
        },
        {
         "marker": {
          "color": "blue"
         },
         "name": "1",
         "type": "box",
         "y": [
          17342,
          2778,
          3107,
          4789,
          9870,
          12506,
          4184,
          2159,
          2804,
          3230,
          5091,
          1416,
          10726,
          13008,
          2024,
          2165,
          2749,
          3586,
          5214,
          11978,
          13942,
          2764,
          2081,
          2352,
          2997,
          2569,
          1915,
          7539,
          8620,
          1708,
          2348
         ]
        },
        {
         "marker": {
          "color": "blue"
         },
         "name": "2",
         "type": "box",
         "y": [
          14890,
          1745,
          1991,
          3011,
          8377,
          10314,
          2804,
          1265,
          1807,
          2007,
          3489,
          952,
          8838,
          10769,
          1316,
          1402,
          1737,
          2289,
          3453,
          9520,
          11642,
          2058,
          1316,
          1425,
          1806,
          1693,
          1190,
          5661,
          6859,
          1186,
          1428
         ]
        },
        {
         "marker": {
          "color": "blue"
         },
         "name": "3",
         "type": "box",
         "y": [
          11226,
          1164,
          1295,
          2028,
          5689,
          7585,
          1913,
          898,
          1198,
          1389,
          2226,
          715,
          6133,
          7730,
          973,
          957,
          1153,
          1395,
          2277,
          6786,
          8449,
          1616,
          965,
          959,
          1131,
          1135,
          875,
          3914,
          4952,
          855,
          926
         ]
        },
        {
         "marker": {
          "color": "blue"
         },
         "name": "4",
         "type": "box",
         "y": [
          7485,
          1137,
          1264,
          1628,
          3421,
          4430,
          1663,
          1077,
          1274,
          1272,
          1653,
          835,
          3624,
          4482,
          1121,
          1053,
          1153,
          1249,
          1726,
          4144,
          4957,
          1463,
          1085,
          1100,
          1207,
          1180,
          981,
          2572,
          2831,
          1070,
          1111
         ]
        },
        {
         "marker": {
          "color": "blue"
         },
         "name": "5",
         "type": "box",
         "y": [
          3357,
          2386,
          2328,
          2622,
          1649,
          1726,
          1597,
          2513,
          2511,
          2520,
          2346,
          2234,
          1723,
          1647,
          2321,
          2442,
          2543,
          2560,
          2546,
          1776,
          1979,
          2528,
          2184,
          2525,
          2542,
          2009,
          2094,
          1362,
          1242,
          2619,
          2343
         ]
        },
        {
         "marker": {
          "color": "blue"
         },
         "name": "6",
         "type": "box",
         "y": [
          2603,
          7239,
          7245,
          7089,
          2524,
          2059,
          3519,
          7677,
          7960,
          7852,
          7076,
          6179,
          2514,
          1917,
          7032,
          7812,
          7168,
          7779,
          7224,
          2719,
          1966,
          7149,
          6772,
          7764,
          7802,
          4806,
          5936,
          2374,
          1901,
          7207,
          7394
         ]
        },
        {
         "marker": {
          "color": "blue"
         },
         "name": "7",
         "type": "box",
         "y": [
          2662,
          13589,
          13664,
          13537,
          4047,
          3457,
          5439,
          14172,
          15154,
          15248,
          13781,
          9875,
          4004,
          3373,
          12465,
          13412,
          13372,
          14408,
          13822,
          4206,
          3053,
          12230,
          11243,
          14277,
          14633,
          6591,
          10578,
          3850,
          2895,
          12301,
          13293
         ]
        },
        {
         "marker": {
          "color": "blue"
         },
         "name": "8",
         "type": "box",
         "y": [
          2866,
          16593,
          16456,
          16240,
          6611,
          5762,
          8902,
          17430,
          17387,
          18357,
          17103,
          12649,
          7053,
          5164,
          14852,
          16841,
          16570,
          17795,
          16760,
          7538,
          5226,
          14612,
          13989,
          16876,
          17907,
          7228,
          13036,
          6002,
          5112,
          14947,
          16162
         ]
        },
        {
         "marker": {
          "color": "blue"
         },
         "name": "9",
         "type": "box",
         "y": [
          4087,
          14795,
          14677,
          15025,
          10446,
          9066,
          10347,
          15671,
          15395,
          16091,
          15907,
          11889,
          10689,
          7825,
          13090,
          16068,
          15069,
          15662,
          15146,
          11400,
          8478,
          13093,
          13751,
          14703,
          16063,
          6449,
          12454,
          9322,
          7979,
          13708,
          15110
         ]
        },
        {
         "marker": {
          "color": "blue"
         },
         "name": "10",
         "type": "box",
         "y": [
          5924,
          13128,
          12812,
          12917,
          12747,
          12010,
          10963,
          13606,
          13330,
          14099,
          13734,
          10928,
          12564,
          10874,
          11227,
          13214,
          13270,
          14184,
          13258,
          12691,
          12034,
          11011,
          12405,
          12834,
          13850,
          5598,
          11454,
          11614,
          10790,
          11671,
          12624
         ]
        },
        {
         "marker": {
          "color": "blue"
         },
         "name": "11",
         "type": "box",
         "y": [
          8743,
          12483,
          12490,
          13105,
          14384,
          13931,
          12434,
          12832,
          12849,
          14074,
          13509,
          11073,
          13314,
          12112,
          10965,
          12787,
          13529,
          14404,
          13616,
          14248,
          13925,
          11086,
          12326,
          12476,
          14011,
          5308,
          11267,
          13368,
          12783,
          11159,
          12093
         ]
        },
        {
         "marker": {
          "color": "blue"
         },
         "name": "12",
         "type": "box",
         "y": [
          10252,
          13039,
          13477,
          14158,
          15836,
          15760,
          13328,
          13491,
          13346,
          14419,
          13959,
          11710,
          13265,
          13385,
          11488,
          13172,
          13822,
          14503,
          14025,
          15241,
          15142,
          11880,
          12943,
          13298,
          14763,
          4933,
          11830,
          14713,
          14448,
          11595,
          12591
         ]
        },
        {
         "marker": {
          "color": "blue"
         },
         "name": "13",
         "type": "box",
         "y": [
          10521,
          12611,
          13445,
          14332,
          15848,
          15831,
          13239,
          13677,
          13128,
          14372,
          14067,
          11889,
          12908,
          13351,
          11680,
          11708,
          13870,
          14355,
          14399,
          15506,
          13820,
          11997,
          13005,
          12851,
          14662,
          4942,
          12397,
          15105,
          13983,
          12064,
          12376
         ]
        },
        {
         "marker": {
          "color": "blue"
         },
         "name": "14",
         "type": "box",
         "y": [
          10766,
          13808,
          14428,
          17164,
          15378,
          15672,
          13506,
          15123,
          14132,
          15701,
          15378,
          12541,
          13161,
          13533,
          13452,
          13022,
          14969,
          15585,
          15415,
          14853,
          13238,
          13280,
          13899,
          14891,
          15398,
          4888,
          13416,
          14646,
          13784,
          13326,
          13446
         ]
        },
        {
         "marker": {
          "color": "blue"
         },
         "name": "15",
         "type": "box",
         "y": [
          11616,
          14320,
          14372,
          15345,
          17035,
          15628,
          14095,
          15012,
          14591,
          15912,
          15467,
          12934,
          14724,
          13571,
          13779,
          13402,
          16059,
          16047,
          15675,
          15403,
          12945,
          13757,
          13724,
          14661,
          15525,
          4722,
          13424,
          16828,
          13745,
          14492,
          14133
         ]
        },
        {
         "marker": {
          "color": "blue"
         },
         "name": "16",
         "type": "box",
         "y": [
          11019,
          12857,
          13164,
          12217,
          17246,
          15615,
          13737,
          13612,
          13264,
          14617,
          14066,
          12390,
          13828,
          12854,
          13280,
          14254,
          14101,
          14238,
          14510,
          15325,
          12712,
          12695,
          12977,
          13655,
          14403,
          4666,
          12481,
          16160,
          13974,
          12797,
          12949
         ]
        },
        {
         "marker": {
          "color": "blue"
         },
         "name": "17",
         "type": "box",
         "y": [
          11069,
          15372,
          15804,
          14961,
          18148,
          15702,
          15148,
          16175,
          16659,
          17615,
          16935,
          14473,
          16024,
          12530,
          14818,
          15478,
          17426,
          17065,
          18341,
          16513,
          12544,
          14742,
          15425,
          17253,
          17375,
          5378,
          15218,
          15925,
          13641,
          14766,
          15623
         ]
        },
        {
         "marker": {
          "color": "blue"
         },
         "name": "18",
         "type": "box",
         "y": [
          10520,
          18260,
          19213,
          17848,
          19805,
          16116,
          15730,
          18475,
          19341,
          20464,
          19760,
          15893,
          17862,
          13330,
          16864,
          18421,
          20357,
          20592,
          21099,
          17868,
          12153,
          17081,
          17455,
          20292,
          20245,
          6547,
          17453,
          17352,
          13232,
          16298,
          18333
         ]
        },
        {
         "marker": {
          "color": "blue"
         },
         "name": "19",
         "type": "box",
         "y": [
          9212,
          17220,
          18149,
          19663,
          20272,
          13556,
          13434,
          16480,
          18375,
          19714,
          19846,
          12937,
          17617,
          10217,
          15409,
          17177,
          19668,
          19974,
          20471,
          17863,
          10291,
          15907,
          16173,
          19161,
          19352,
          6240,
          17634,
          17011,
          10686,
          14916,
          16672
         ]
        },
        {
         "marker": {
          "color": "blue"
         },
         "name": "20",
         "type": "box",
         "y": [
          7280,
          15811,
          16502,
          15070,
          15802,
          13276,
          10903,
          15358,
          17403,
          18225,
          16273,
          11000,
          14076,
          9035,
          13727,
          16169,
          18822,
          18488,
          17673,
          13983,
          8643,
          14057,
          13481,
          18165,
          17971,
          5861,
          14801,
          12724,
          8933,
          13183,
          15814
         ]
        },
        {
         "marker": {
          "color": "blue"
         },
         "name": "21",
         "type": "box",
         "y": [
          7500,
          15467,
          16312,
          16813,
          15564,
          11873,
          10353,
          15476,
          17544,
          18567,
          15513,
          10240,
          13972,
          8957,
          13186,
          15807,
          18797,
          18756,
          16726,
          13776,
          7990,
          13141,
          12466,
          17788,
          17891,
          5956,
          13531,
          12347,
          7721,
          11450,
          15275
         ]
        },
        {
         "marker": {
          "color": "blue"
         },
         "name": "22",
         "type": "box",
         "y": [
          6398,
          13963,
          15413,
          15826,
          16846,
          10620,
          9247,
          12912,
          15030,
          17278,
          16231,
          8789,
          15562,
          6737,
          10761,
          14063,
          16590,
          17558,
          17566,
          16008,
          6568,
          10492,
          11276,
          14718,
          15777,
          5484,
          14475,
          13189,
          5949,
          9495,
          12800
         ]
        },
        {
         "marker": {
          "color": "blue"
         },
         "name": "23",
         "type": "box",
         "y": [
          4165,
          9042,
          12134,
          15108,
          17062,
          8514,
          6343,
          7945,
          10009,
          12673,
          15297,
          5414,
          15615,
          4714,
          6656,
          8470,
          10670,
          13117,
          16275,
          15854,
          5585,
          6935,
          7344,
          9825,
          10147,
          4463,
          12291,
          13476,
          4901,
          6156,
          7951
         ]
        }
       ],
       "layout": {
        "autosize": false,
        "font": {
         "color": "blue"
        },
        "height": 500,
        "template": {
         "data": {
          "bar": [
           {
            "error_x": {
             "color": "#2a3f5f"
            },
            "error_y": {
             "color": "#2a3f5f"
            },
            "marker": {
             "line": {
              "color": "#E5ECF6",
              "width": 0.5
             },
             "pattern": {
              "fillmode": "overlay",
              "size": 10,
              "solidity": 0.2
             }
            },
            "type": "bar"
           }
          ],
          "barpolar": [
           {
            "marker": {
             "line": {
              "color": "#E5ECF6",
              "width": 0.5
             },
             "pattern": {
              "fillmode": "overlay",
              "size": 10,
              "solidity": 0.2
             }
            },
            "type": "barpolar"
           }
          ],
          "carpet": [
           {
            "aaxis": {
             "endlinecolor": "#2a3f5f",
             "gridcolor": "white",
             "linecolor": "white",
             "minorgridcolor": "white",
             "startlinecolor": "#2a3f5f"
            },
            "baxis": {
             "endlinecolor": "#2a3f5f",
             "gridcolor": "white",
             "linecolor": "white",
             "minorgridcolor": "white",
             "startlinecolor": "#2a3f5f"
            },
            "type": "carpet"
           }
          ],
          "choropleth": [
           {
            "colorbar": {
             "outlinewidth": 0,
             "ticks": ""
            },
            "type": "choropleth"
           }
          ],
          "contour": [
           {
            "colorbar": {
             "outlinewidth": 0,
             "ticks": ""
            },
            "colorscale": [
             [
              0,
              "#0d0887"
             ],
             [
              0.1111111111111111,
              "#46039f"
             ],
             [
              0.2222222222222222,
              "#7201a8"
             ],
             [
              0.3333333333333333,
              "#9c179e"
             ],
             [
              0.4444444444444444,
              "#bd3786"
             ],
             [
              0.5555555555555556,
              "#d8576b"
             ],
             [
              0.6666666666666666,
              "#ed7953"
             ],
             [
              0.7777777777777778,
              "#fb9f3a"
             ],
             [
              0.8888888888888888,
              "#fdca26"
             ],
             [
              1,
              "#f0f921"
             ]
            ],
            "type": "contour"
           }
          ],
          "contourcarpet": [
           {
            "colorbar": {
             "outlinewidth": 0,
             "ticks": ""
            },
            "type": "contourcarpet"
           }
          ],
          "heatmap": [
           {
            "colorbar": {
             "outlinewidth": 0,
             "ticks": ""
            },
            "colorscale": [
             [
              0,
              "#0d0887"
             ],
             [
              0.1111111111111111,
              "#46039f"
             ],
             [
              0.2222222222222222,
              "#7201a8"
             ],
             [
              0.3333333333333333,
              "#9c179e"
             ],
             [
              0.4444444444444444,
              "#bd3786"
             ],
             [
              0.5555555555555556,
              "#d8576b"
             ],
             [
              0.6666666666666666,
              "#ed7953"
             ],
             [
              0.7777777777777778,
              "#fb9f3a"
             ],
             [
              0.8888888888888888,
              "#fdca26"
             ],
             [
              1,
              "#f0f921"
             ]
            ],
            "type": "heatmap"
           }
          ],
          "heatmapgl": [
           {
            "colorbar": {
             "outlinewidth": 0,
             "ticks": ""
            },
            "colorscale": [
             [
              0,
              "#0d0887"
             ],
             [
              0.1111111111111111,
              "#46039f"
             ],
             [
              0.2222222222222222,
              "#7201a8"
             ],
             [
              0.3333333333333333,
              "#9c179e"
             ],
             [
              0.4444444444444444,
              "#bd3786"
             ],
             [
              0.5555555555555556,
              "#d8576b"
             ],
             [
              0.6666666666666666,
              "#ed7953"
             ],
             [
              0.7777777777777778,
              "#fb9f3a"
             ],
             [
              0.8888888888888888,
              "#fdca26"
             ],
             [
              1,
              "#f0f921"
             ]
            ],
            "type": "heatmapgl"
           }
          ],
          "histogram": [
           {
            "marker": {
             "pattern": {
              "fillmode": "overlay",
              "size": 10,
              "solidity": 0.2
             }
            },
            "type": "histogram"
           }
          ],
          "histogram2d": [
           {
            "colorbar": {
             "outlinewidth": 0,
             "ticks": ""
            },
            "colorscale": [
             [
              0,
              "#0d0887"
             ],
             [
              0.1111111111111111,
              "#46039f"
             ],
             [
              0.2222222222222222,
              "#7201a8"
             ],
             [
              0.3333333333333333,
              "#9c179e"
             ],
             [
              0.4444444444444444,
              "#bd3786"
             ],
             [
              0.5555555555555556,
              "#d8576b"
             ],
             [
              0.6666666666666666,
              "#ed7953"
             ],
             [
              0.7777777777777778,
              "#fb9f3a"
             ],
             [
              0.8888888888888888,
              "#fdca26"
             ],
             [
              1,
              "#f0f921"
             ]
            ],
            "type": "histogram2d"
           }
          ],
          "histogram2dcontour": [
           {
            "colorbar": {
             "outlinewidth": 0,
             "ticks": ""
            },
            "colorscale": [
             [
              0,
              "#0d0887"
             ],
             [
              0.1111111111111111,
              "#46039f"
             ],
             [
              0.2222222222222222,
              "#7201a8"
             ],
             [
              0.3333333333333333,
              "#9c179e"
             ],
             [
              0.4444444444444444,
              "#bd3786"
             ],
             [
              0.5555555555555556,
              "#d8576b"
             ],
             [
              0.6666666666666666,
              "#ed7953"
             ],
             [
              0.7777777777777778,
              "#fb9f3a"
             ],
             [
              0.8888888888888888,
              "#fdca26"
             ],
             [
              1,
              "#f0f921"
             ]
            ],
            "type": "histogram2dcontour"
           }
          ],
          "mesh3d": [
           {
            "colorbar": {
             "outlinewidth": 0,
             "ticks": ""
            },
            "type": "mesh3d"
           }
          ],
          "parcoords": [
           {
            "line": {
             "colorbar": {
              "outlinewidth": 0,
              "ticks": ""
             }
            },
            "type": "parcoords"
           }
          ],
          "pie": [
           {
            "automargin": true,
            "type": "pie"
           }
          ],
          "scatter": [
           {
            "fillpattern": {
             "fillmode": "overlay",
             "size": 10,
             "solidity": 0.2
            },
            "type": "scatter"
           }
          ],
          "scatter3d": [
           {
            "line": {
             "colorbar": {
              "outlinewidth": 0,
              "ticks": ""
             }
            },
            "marker": {
             "colorbar": {
              "outlinewidth": 0,
              "ticks": ""
             }
            },
            "type": "scatter3d"
           }
          ],
          "scattercarpet": [
           {
            "marker": {
             "colorbar": {
              "outlinewidth": 0,
              "ticks": ""
             }
            },
            "type": "scattercarpet"
           }
          ],
          "scattergeo": [
           {
            "marker": {
             "colorbar": {
              "outlinewidth": 0,
              "ticks": ""
             }
            },
            "type": "scattergeo"
           }
          ],
          "scattergl": [
           {
            "marker": {
             "colorbar": {
              "outlinewidth": 0,
              "ticks": ""
             }
            },
            "type": "scattergl"
           }
          ],
          "scattermapbox": [
           {
            "marker": {
             "colorbar": {
              "outlinewidth": 0,
              "ticks": ""
             }
            },
            "type": "scattermapbox"
           }
          ],
          "scatterpolar": [
           {
            "marker": {
             "colorbar": {
              "outlinewidth": 0,
              "ticks": ""
             }
            },
            "type": "scatterpolar"
           }
          ],
          "scatterpolargl": [
           {
            "marker": {
             "colorbar": {
              "outlinewidth": 0,
              "ticks": ""
             }
            },
            "type": "scatterpolargl"
           }
          ],
          "scatterternary": [
           {
            "marker": {
             "colorbar": {
              "outlinewidth": 0,
              "ticks": ""
             }
            },
            "type": "scatterternary"
           }
          ],
          "surface": [
           {
            "colorbar": {
             "outlinewidth": 0,
             "ticks": ""
            },
            "colorscale": [
             [
              0,
              "#0d0887"
             ],
             [
              0.1111111111111111,
              "#46039f"
             ],
             [
              0.2222222222222222,
              "#7201a8"
             ],
             [
              0.3333333333333333,
              "#9c179e"
             ],
             [
              0.4444444444444444,
              "#bd3786"
             ],
             [
              0.5555555555555556,
              "#d8576b"
             ],
             [
              0.6666666666666666,
              "#ed7953"
             ],
             [
              0.7777777777777778,
              "#fb9f3a"
             ],
             [
              0.8888888888888888,
              "#fdca26"
             ],
             [
              1,
              "#f0f921"
             ]
            ],
            "type": "surface"
           }
          ],
          "table": [
           {
            "cells": {
             "fill": {
              "color": "#EBF0F8"
             },
             "line": {
              "color": "white"
             }
            },
            "header": {
             "fill": {
              "color": "#C8D4E3"
             },
             "line": {
              "color": "white"
             }
            },
            "type": "table"
           }
          ]
         },
         "layout": {
          "annotationdefaults": {
           "arrowcolor": "#2a3f5f",
           "arrowhead": 0,
           "arrowwidth": 1
          },
          "autotypenumbers": "strict",
          "coloraxis": {
           "colorbar": {
            "outlinewidth": 0,
            "ticks": ""
           }
          },
          "colorscale": {
           "diverging": [
            [
             0,
             "#8e0152"
            ],
            [
             0.1,
             "#c51b7d"
            ],
            [
             0.2,
             "#de77ae"
            ],
            [
             0.3,
             "#f1b6da"
            ],
            [
             0.4,
             "#fde0ef"
            ],
            [
             0.5,
             "#f7f7f7"
            ],
            [
             0.6,
             "#e6f5d0"
            ],
            [
             0.7,
             "#b8e186"
            ],
            [
             0.8,
             "#7fbc41"
            ],
            [
             0.9,
             "#4d9221"
            ],
            [
             1,
             "#276419"
            ]
           ],
           "sequential": [
            [
             0,
             "#0d0887"
            ],
            [
             0.1111111111111111,
             "#46039f"
            ],
            [
             0.2222222222222222,
             "#7201a8"
            ],
            [
             0.3333333333333333,
             "#9c179e"
            ],
            [
             0.4444444444444444,
             "#bd3786"
            ],
            [
             0.5555555555555556,
             "#d8576b"
            ],
            [
             0.6666666666666666,
             "#ed7953"
            ],
            [
             0.7777777777777778,
             "#fb9f3a"
            ],
            [
             0.8888888888888888,
             "#fdca26"
            ],
            [
             1,
             "#f0f921"
            ]
           ],
           "sequentialminus": [
            [
             0,
             "#0d0887"
            ],
            [
             0.1111111111111111,
             "#46039f"
            ],
            [
             0.2222222222222222,
             "#7201a8"
            ],
            [
             0.3333333333333333,
             "#9c179e"
            ],
            [
             0.4444444444444444,
             "#bd3786"
            ],
            [
             0.5555555555555556,
             "#d8576b"
            ],
            [
             0.6666666666666666,
             "#ed7953"
            ],
            [
             0.7777777777777778,
             "#fb9f3a"
            ],
            [
             0.8888888888888888,
             "#fdca26"
            ],
            [
             1,
             "#f0f921"
            ]
           ]
          },
          "colorway": [
           "#636efa",
           "#EF553B",
           "#00cc96",
           "#ab63fa",
           "#FFA15A",
           "#19d3f3",
           "#FF6692",
           "#B6E880",
           "#FF97FF",
           "#FECB52"
          ],
          "font": {
           "color": "#2a3f5f"
          },
          "geo": {
           "bgcolor": "white",
           "lakecolor": "white",
           "landcolor": "#E5ECF6",
           "showlakes": true,
           "showland": true,
           "subunitcolor": "white"
          },
          "hoverlabel": {
           "align": "left"
          },
          "hovermode": "closest",
          "mapbox": {
           "style": "light"
          },
          "paper_bgcolor": "white",
          "plot_bgcolor": "#E5ECF6",
          "polar": {
           "angularaxis": {
            "gridcolor": "white",
            "linecolor": "white",
            "ticks": ""
           },
           "bgcolor": "#E5ECF6",
           "radialaxis": {
            "gridcolor": "white",
            "linecolor": "white",
            "ticks": ""
           }
          },
          "scene": {
           "xaxis": {
            "backgroundcolor": "#E5ECF6",
            "gridcolor": "white",
            "gridwidth": 2,
            "linecolor": "white",
            "showbackground": true,
            "ticks": "",
            "zerolinecolor": "white"
           },
           "yaxis": {
            "backgroundcolor": "#E5ECF6",
            "gridcolor": "white",
            "gridwidth": 2,
            "linecolor": "white",
            "showbackground": true,
            "ticks": "",
            "zerolinecolor": "white"
           },
           "zaxis": {
            "backgroundcolor": "#E5ECF6",
            "gridcolor": "white",
            "gridwidth": 2,
            "linecolor": "white",
            "showbackground": true,
            "ticks": "",
            "zerolinecolor": "white"
           }
          },
          "shapedefaults": {
           "line": {
            "color": "#2a3f5f"
           }
          },
          "ternary": {
           "aaxis": {
            "gridcolor": "white",
            "linecolor": "white",
            "ticks": ""
           },
           "baxis": {
            "gridcolor": "white",
            "linecolor": "white",
            "ticks": ""
           },
           "bgcolor": "#E5ECF6",
           "caxis": {
            "gridcolor": "white",
            "linecolor": "white",
            "ticks": ""
           }
          },
          "title": {
           "x": 0.05
          },
          "xaxis": {
           "automargin": true,
           "gridcolor": "white",
           "linecolor": "white",
           "ticks": "",
           "title": {
            "standoff": 15
           },
           "zerolinecolor": "white",
           "zerolinewidth": 2
          },
          "yaxis": {
           "automargin": true,
           "gridcolor": "white",
           "linecolor": "white",
           "ticks": "",
           "title": {
            "standoff": 15
           },
           "zerolinecolor": "white",
           "zerolinewidth": 2
          }
         }
        },
        "title": {
         "font": {
          "color": "black",
          "size": 25
         },
         "text": "Distribucion de viajes por hora"
        },
        "width": 800
       }
      }
     },
     "metadata": {},
     "output_type": "display_data"
    }
   ],
   "source": [
    "fig = go.Figure()\n",
    "for idx, i in enumerate(boxes):\n",
    "    fig.add_trace(go.Box(y=i, name=f[idx],\n",
    "                marker_color = 'blue'))\n",
    "\n",
    "fig.update_layout(\n",
    "    autosize=False,\n",
    "    width=800,\n",
    "    height=500,\n",
    "    font_color=\"blue\",\n",
    "    title = 'Distribucion de viajes por hora',\n",
    "    #title_font_family=\"Times New Roman\",\n",
    "    title_font_color=\"black\",\n",
    "    title_font_size = 25\n",
    "    )\n",
    "\n",
    "fig.show()"
   ]
  }
 ],
 "metadata": {
  "kernelspec": {
   "display_name": "Python 3.9.13 64-bit",
   "language": "python",
   "name": "python3"
  },
  "language_info": {
   "codemirror_mode": {
    "name": "ipython",
    "version": 3
   },
   "file_extension": ".py",
   "mimetype": "text/x-python",
   "name": "python",
   "nbconvert_exporter": "python",
   "pygments_lexer": "ipython3",
   "version": "3.9.13"
  },
  "orig_nbformat": 4,
  "vscode": {
   "interpreter": {
    "hash": "89f8f4da03b88366b24b3e615f25203f75fc591e3c4bb5e4e10f1e65da1c83de"
   }
  }
 },
 "nbformat": 4,
 "nbformat_minor": 2
}
