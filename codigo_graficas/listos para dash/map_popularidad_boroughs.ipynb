{
 "cells": [
  {
   "cell_type": "markdown",
   "metadata": {},
   "source": [
    "Importacion de GeoJson para mapPlot"
   ]
  },
  {
   "cell_type": "code",
   "execution_count": null,
   "metadata": {},
   "outputs": [],
   "source": [
    "import plotly.express as px\n",
    "from urllib.request import urlopen\n",
    "import json\n",
    "import pandas as pd\n",
    "from pandarallel import pandarallel\n",
    "from numpy import log as ln"
   ]
  },
  {
   "cell_type": "code",
   "execution_count": null,
   "metadata": {},
   "outputs": [],
   "source": [
    "with urlopen('https://raw.githubusercontent.com/plotly/datasets/master/geojson-counties-fips.json') as response:\n",
    "    counties = json.load(response)"
   ]
  },
  {
   "cell_type": "code",
   "execution_count": null,
   "metadata": {},
   "outputs": [],
   "source": [
    "# ID de borough en GeoJson\n",
    "d = ['36005', '36047', '36061', '36081', '36085']\n",
    "name = ['Bronx', 'Brooklyn', 'Manhattan', 'Queens',  'Staten Island']"
   ]
  },
  {
   "cell_type": "code",
   "execution_count": null,
   "metadata": {},
   "outputs": [],
   "source": [
    "# data frame de boroughs a imprimir y su escala de color\n",
    "c = pd.DataFrame()\n",
    "c['fips'] = d\n",
    "c['borough'] = name\n",
    "c['unemp'] = [1,3,6,8,11]"
   ]
  },
  {
   "cell_type": "markdown",
   "metadata": {},
   "source": [
    "Obtenciond de taxi_trip y su transofrmacion"
   ]
  },
  {
   "cell_type": "code",
   "execution_count": null,
   "metadata": {},
   "outputs": [],
   "source": [
    "directorio_parquet = 'datasets/taxi_trip/8_months_taxi.parquet'\n",
    "directorio_Location = 'datasets/taxi_zone_lookup.csv'\n",
    "directorio_calendar = 'datasets/calendar.csv'"
   ]
  },
  {
   "cell_type": "code",
   "execution_count": null,
   "metadata": {},
   "outputs": [],
   "source": [
    "#funcion para calcular outliers\n",
    "def outliers_obt(data, columna,cuartial1,cuartil2,valoriqr=1.5):\n",
    "    ##calculamos los cuartiles \n",
    "    Q1 = data[columna].quantile(float(cuartial1))\n",
    "    #print('Primer Cuartile', Q1)\n",
    "    Q3 = data[columna].quantile(float(cuartil2))\n",
    "    #print('Tercer Cuartile',Q3)\n",
    "    IQR = Q3 - Q1\n",
    "    #print('Rango intercuartile', IQR)\n",
    "\n",
    "    ##calculamos los bigotes superior e inferior\n",
    "    BI = (Q1 - valoriqr * IQR)\n",
    "    #print('bigote Inferior \\n', BI)\n",
    "    BS = (Q3 + valoriqr * IQR)\n",
    "    #print('bigote superior \\n', BS)\n",
    "\n",
    "    ##obtenemos una nueva tabla sin los outliers\n",
    "    ubi_sin_out = data[(data[columna] >= BI) & (data[columna] <= BS)]\n",
    "    return ubi_sin_out"
   ]
  },
  {
   "cell_type": "code",
   "execution_count": null,
   "metadata": {},
   "outputs": [],
   "source": [
    "\n",
    "#crear dataframe\n",
    "df = pd.read_parquet(directorio_parquet)\n",
    "df_Taxi_zone = pd.read_csv(directorio_Location)\n",
    "calendar = pd.read_csv(directorio_calendar, sep=';')\n",
    "print('dataset cargados')\n",
    " ##NORMALIZACION\n",
    "#('---------------------------------OUTLIERS---------------------------')\n",
    "df=outliers_obt(df,'total_amount','0.25','0.75',valoriqr=4.5)\n",
    "df=outliers_obt(df,'improvement_surcharge','0.25','0.75',valoriqr=4.5)\n",
    "df=outliers_obt(df,'tip_amount','0.25','0.75',valoriqr=2)\n",
    "df=outliers_obt(df,'mta_tax','0.25','0.75',valoriqr=1.5)\n",
    "df=outliers_obt(df,'extra','0.25','0.75',valoriqr=1.5)\n",
    "df=outliers_obt(df,'fare_amount','0.25','0.75',valoriqr=4.5)\n",
    "df=outliers_obt(df,'trip_distance','0.25','0.75',valoriqr=3)\n",
    "#df=outliers_obt(df,'tpep_dropoff_datetime','0.25','0.75',valoriqr=1.5)\n",
    "print('outlayers dropeados')\n"
   ]
  },
  {
   "cell_type": "code",
   "execution_count": null,
   "metadata": {},
   "outputs": [],
   "source": [
    "#-----------------------------------------------------------------------------------------------------\n",
    "## Partir data set para rendimiento\n",
    "#df = df.iloc[:100000]\n",
    "#-----------------------------------------------------------------------------------------------------\n",
    "## NORMALIZACION\n",
    "# copia del df\n",
    "df_changes =df.copy()\n",
    "# reemplazo valores nulos \n",
    "df_changes['congestion_surcharge'].fillna(0.0, inplace=True)\n",
    "df_changes['airport_fee'].fillna(0.0, inplace=True)\n",
    "# resto las columnas que no usaremos o dropeamos\n",
    "df_changes['total_amount_1'] = df_changes.total_amount - df_changes.tolls_amount - df_changes.congestion_surcharge - df_changes.airport_fee\n",
    "df_changes.drop(['congestion_surcharge','airport_fee'], axis=1, inplace=True)\n",
    "df_changes['Travel_time'] = df_changes.tpep_dropoff_datetime - df_changes.tpep_pickup_datetime\n",
    "# creo columna de location\n",
    "df_changes['LocationID']=df_changes['PULocationID']\n",
    "# DF Taxi_zone\n",
    "# Reemplazo valores nulos\n",
    "df_Taxi_zone['Zone'].fillna('Not specified',inplace=True)\n",
    "df_Taxi_zone['service_zone'].fillna('Not specified',inplace=True)\n",
    "# realizo merge para tener todo en un solo df\n",
    "df_changes= df_changes.merge(df_Taxi_zone, how='left', on='LocationID')\n",
    "print('1/4')\n"
   ]
  },
  {
   "cell_type": "code",
   "execution_count": null,
   "metadata": {},
   "outputs": [],
   "source": [
    "# reseteo el index para renemobarlo y cambiarle el nombre a IdTaxis\n",
    "df_changes.reset_index(inplace=True)\n",
    "df_changes.rename(columns={'index':'IdTaxis_2018'}, inplace=True)\n",
    "#normalizo todos los nombres de los ID \n",
    "df_changes.rename(columns={ 'VendorID':'IdVendor','RatecodeID':'IdRatecode','PULocationID':'IdPULocation','DOLocationID':'IdDOLocation',\n",
    "                            'payment_type':'IdPayment_type','LocationID':'IdLocation'},inplace=True)\n",
    "# en la columna de tpep_pickup_datetime hay fechas mayores al mes de Enero, realizo un drop\n",
    "df_changes.drop(df_changes[df_changes['tpep_pickup_datetime'] > '2018-02-01'].index, inplace = True)\n",
    "# Creo tabla de Hechos \"taxi_trip_2018\"\n",
    "taxi_trip_2018 = df_changes[:][[   'IdTaxis_2018','IdVendor','tpep_pickup_datetime','tpep_dropoff_datetime','Travel_time','IdRatecode','IdPULocation'\n",
    "                                ,'IdDOLocation','IdPayment_type','Borough','fare_amount','extra','mta_tax','tip_amount','improvement_surcharge','total_amount_1']]\n",
    "print('2/4')\n",
    "## CREACION TABLAS DE DIMENCION\n",
    "vendor={    1:'Creative Mobile Technologies, LLC',\n",
    "            2:'VeriFone Inc'}\n",
    "vendor = pd.DataFrame([[key, vendor[key]] for key in vendor.keys()], columns=['IdVendor', 'Name_vendor'])\n",
    "Ratecode={  1:'Tarifa estándar',\n",
    "            2:'jfk',\n",
    "            3:'nuevaark',\n",
    "            4:'nassau o westchester',\n",
    "            5:'tarifa negociada',\n",
    "            6:'paseo en grupo'}\n",
    "Ratecode = pd.DataFrame([[key, Ratecode[key]] for key in Ratecode.keys()], columns=['IdRatecode', 'Name_ratecode'])\n",
    "payment={   1:'tarjeta de crédito',\n",
    "            2:'efectivo',\n",
    "            3:'sin cargo',\n",
    "            4:'disputa',\n",
    "            5:'desconocido',\n",
    "            6:'viaje anulado'}\n",
    "payment = pd.DataFrame([[key, payment[key]] for key in payment.keys()], columns=['IdPayment_type', 'Payment_type'])\n",
    "Borough_dic = [ {'IdBorough':1,'Borough':'EWR','Latitude':40.6895314,'Longitude':-74.17446239999998},\n",
    "                {'IdBorough':2,'Borough':'Queens','Latitude':40.742054,'Longitude':-73.769417},\n",
    "                {'IdBorough':3,'Borough':'Bronx','Latitude':40.837048,'Longitude':-73.865433},\n",
    "                {'IdBorough':4,'Borough':'Manhattan','Latitude':40.776676,'Longitude':-73.971321},\n",
    "                {'IdBorough':5,'Borough':'Staten Island','Latitude':40.579021,'Longitude':-74.151535},\n",
    "                {'IdBorough':6,'Borough':'Brooklyn','Latitude':40.650002,'Longitude':-73.949997}]\n",
    "Borough = pd.DataFrame(Borough_dic)\n",
    "# Funcion para relacionar los indices de una columna con otra\n",
    "def algo(params):\n",
    "    if params == 'EWR':\n",
    "        return 1\n",
    "    if params == 'Queens':\n",
    "        return 2\n",
    "    if params == 'Bronx':\n",
    "        return 3\n",
    "    if params == 'Manhattan':\n",
    "        return 4\n",
    "    if params == 'Staten Island':\n",
    "        return 5\n",
    "    if params == 'Brooklyn':\n",
    "        return 6\n",
    "    else:\n",
    "        return params\n",
    "print('3/4')\n"
   ]
  },
  {
   "cell_type": "code",
   "execution_count": null,
   "metadata": {},
   "outputs": [],
   "source": [
    "pandarallel.initialize()\n",
    "# subescribo los valores del df \"df_Taxi_zone\" de la columna \"borough\" y le aplico un nuevo valores con la funcion creada arriba\n",
    "df_Taxi_zone.Borough = df_Taxi_zone.Borough.parallel_apply(algo)\n",
    "# renombro la columna \n",
    "df_Taxi_zone.rename(columns={'Borough':'IdBorough'}, inplace=True)\n",
    "# realizo un drop de la columna \"service_zone\"\n",
    "df_Taxi_zone.drop('service_zone',axis=1 ,inplace=True)\n",
    "## tabla de dimencion \"Location\"\n",
    "Location = df_Taxi_zone.copy()\n",
    "##normalizo la columna \"Date\" del \"calendario\" con la forma \"AAAA-MM-DD\"\n",
    "#calendar[\"Date\"] = pd.to_datetime(calendar[\"date\"])\n",
    "## renombro columna id de \"calendario\"\n",
    "#calendar.rename(columns={'id':'IdCalendar'}, inplace=True)\n",
    "## organizo las columnas \n",
    "#calendar = calendar.reindex(columns=['IdCalendar','Date','year','week','day','hour'])\n",
    "# Funcion para relacionar los indices de una columna con otra para la tabla taxi_trip_2018\n",
    "#def algo1(params):\n",
    "#    try:\n",
    "#        return Borough.IdBorough[Borough.Borough== params].iloc[0]\n",
    "#    except:\n",
    "#        return 7\n",
    "# subescribo los valores del df \"taxi_trip_2018\" de la columna \"borough\" y le aplico un nuevo valores con la funcion creada arriba\n",
    "taxi_trip_2018.Borough = taxi_trip_2018.Borough.parallel_apply(algo)     #1)----------------------------------------------\n",
    "# Cambio el nombre de la columna \"Borough\" \n",
    "taxi_trip_2018.rename(columns={'Borough':'IdBorough'}, inplace=True)\n",
    "\n",
    "#lista_table=[Borough, Location,Ratecode,payment,vendor, calendar, taxi_trip_2018] \n",
    "lista_table = []\n",
    "lista_table.append(taxi_trip_2018)\n",
    "#print(type(lista_table))\n",
    "#print(type(lista_table[0]))\n",
    "#print(lista_table[0].head())\n",
    "print('4/4')"
   ]
  },
  {
   "cell_type": "markdown",
   "metadata": {},
   "source": [
    "Transformacion a taxi_zone_lookup para poder hacer merge"
   ]
  },
  {
   "cell_type": "code",
   "execution_count": null,
   "metadata": {},
   "outputs": [],
   "source": [
    "df_Taxi_zone = df_Taxi_zone.merge(Borough, how= 'left', on='IdBorough')\n",
    "df_Taxi_zone.drop(columns=['Zone','Latitude', 'Longitude'], inplace=True)"
   ]
  },
  {
   "cell_type": "code",
   "execution_count": null,
   "metadata": {},
   "outputs": [],
   "source": [
    "df_Taxi_zone.loc[df_Taxi_zone[df_Taxi_zone.IdBorough == 'Unknown'].index,'Borough'] = 'Unknown'"
   ]
  },
  {
   "cell_type": "markdown",
   "metadata": {},
   "source": [
    "Obtencion de grafica"
   ]
  },
  {
   "cell_type": "code",
   "execution_count": null,
   "metadata": {},
   "outputs": [],
   "source": [
    "# marge DropOff location\n",
    "taxi_trip_2018 = taxi_trip_2018.merge(df_Taxi_zone, how = 'left', right_on = 'LocationID', left_on = 'IdPULocation')\n",
    "#taxi_trip_2018.drop(columns= ['IdPULocation', 'LocationID'], inplace=True)\n",
    "taxi_trip_2018.rename(columns={'Borough' : 'boroughPU'}, inplace=True)"
   ]
  },
  {
   "cell_type": "code",
   "execution_count": null,
   "metadata": {},
   "outputs": [],
   "source": [
    "# marge entre columnas bla bla bla\n",
    "taxi_trip_2018 = taxi_trip_2018.merge(df_Taxi_zone, how = 'left', right_on = 'LocationID', left_on = 'IdDOLocation')\n",
    "#taxi_trip_2018.drop(columns= ['IdDOLocation', 'LocationID'], inplace=True)\n",
    "taxi_trip_2018.rename(columns={'Borough':'boroughDO'}, inplace=True)"
   ]
  },
  {
   "cell_type": "code",
   "execution_count": null,
   "metadata": {},
   "outputs": [],
   "source": [
    "z = (taxi_trip_2018.groupby(['boroughDO', 'boroughPU']).size()).unstack()"
   ]
  },
  {
   "cell_type": "code",
   "execution_count": null,
   "metadata": {},
   "outputs": [],
   "source": [
    "z.fillna(0, inplace=True)\n",
    "z.drop(columns=['EWR'], inplace=True)\n",
    "z.drop(['EWR'], axis=0, inplace=True)\n",
    "z.drop(columns=['Unknown'], axis=1 , inplace = True)\n",
    "z.drop(['Unknown'], axis=0, inplace=True)"
   ]
  },
  {
   "cell_type": "code",
   "execution_count": null,
   "metadata": {},
   "outputs": [],
   "source": [
    "c.unemp = z.sum().values\n",
    "c.loc[:,'unemp'] = ln(c.unemp)"
   ]
  },
  {
   "cell_type": "code",
   "execution_count": null,
   "metadata": {},
   "outputs": [],
   "source": [
    "fig = px.choropleth_mapbox(c, geojson=counties, locations='fips', color='unemp',\n",
    "                           color_continuous_scale=px.colors.sequential.Blues,\n",
    "                           range_color=(0, c.unemp.max()),\n",
    "                           mapbox_style=\"carto-positron\",\n",
    "                           zoom=9,\n",
    "                           center= {\"lat\": 40.7080747, \"lon\": -73.9810613},\n",
    "                           opacity=0.5,\n",
    "                           labels={'unemp':'trips scale'}\n",
    "                          )\n",
    "fig.update_layout(margin={\"r\":0,\"t\":0,\"l\":0,\"b\":0})\n",
    "fig.show()"
   ]
  }
 ],
 "metadata": {
  "kernelspec": {
   "display_name": "Python 3.9.13 64-bit",
   "language": "python",
   "name": "python3"
  },
  "language_info": {
   "codemirror_mode": {
    "name": "ipython",
    "version": 3
   },
   "file_extension": ".py",
   "mimetype": "text/x-python",
   "name": "python",
   "nbconvert_exporter": "python",
   "pygments_lexer": "ipython3",
   "version": "3.9.13"
  },
  "orig_nbformat": 4,
  "vscode": {
   "interpreter": {
    "hash": "89f8f4da03b88366b24b3e615f25203f75fc591e3c4bb5e4e10f1e65da1c83de"
   }
  }
 },
 "nbformat": 4,
 "nbformat_minor": 2
}
