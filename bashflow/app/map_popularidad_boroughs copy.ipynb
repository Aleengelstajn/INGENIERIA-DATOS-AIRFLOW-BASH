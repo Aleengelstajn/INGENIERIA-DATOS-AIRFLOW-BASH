{
 "cells": [
  {
   "cell_type": "markdown",
   "metadata": {},
   "source": [
    "Importacion de GeoJson para mapPlot"
   ]
  },
  {
   "cell_type": "code",
   "execution_count": 2,
   "metadata": {},
   "outputs": [],
   "source": [
    "import json\n",
    "import db\n",
    "import plotly.express as px\n",
    "from urllib.request import urlopen\n",
    "import json\n",
    "import pandas as pd\n",
    "from pandarallel import pandarallel\n",
    "from numpy import log as ln"
   ]
  },
  {
   "cell_type": "code",
   "execution_count": 3,
   "metadata": {},
   "outputs": [],
   "source": [
    "nyc_geojson = './assets/borough_nyc.geojson'\n",
    "counties = json.load(open(nyc_geojson))"
   ]
  },
  {
   "cell_type": "code",
   "execution_count": null,
   "metadata": {},
   "outputs": [],
   "source": [
    "# ID de borough en GeoJson\n",
    "d = ['36005', '36047', '36061', '36081', '36085']\n",
    "name = ['Bronx', 'Brooklyn', 'Manhattan', 'Queens',  'Staten Island']"
   ]
  },
  {
   "cell_type": "code",
   "execution_count": null,
   "metadata": {},
   "outputs": [],
   "source": [
    "borough_map = {}\n",
    "for feature in counties['features']:\n",
    "    feature['id'] = feature['properties']['boro_code']\n",
    "    borough_map[feature['properties']['boro_name']] = feature['id']\n",
    "\n",
    "borough_id = pd.Series(borough_map)\n",
    "borough_id = pd.DataFrame(borough_id)\n",
    "borough_id.reset_index(inplace=True)\n",
    "borough_id.rename(columns={'index': 'borough', 0:'id_borough'}, inplace=True)\n",
    "\n"
   ]
  },
  {
   "cell_type": "code",
   "execution_count": null,
   "metadata": {},
   "outputs": [],
   "source": [
    "# data frame de boroughs a imprimir y su escala de color\n",
    "c = pd.DataFrame()\n",
    "c['fips'] = d\n",
    "c['borough'] = name\n",
    "c['unemp'] = [1,3,6,8,11]"
   ]
  },
  {
   "cell_type": "code",
   "execution_count": 4,
   "metadata": {},
   "outputs": [
    {
     "name": "stdout",
     "output_type": "stream",
     "text": [
      "[2022-07-28 07:56:18] - Iniciando conexion a base de datos...\n",
      "[2022-07-28 07:56:19] - Conexion Exitosa.\n",
      "[2022-07-28 07:56:38] - Tabla cargada exitosamente.\n"
     ]
    }
   ],
   "source": [
    "table = db.conn(\n",
    "    '''\n",
    "    SELECT *\n",
    "    FROM taxi_trips;\n",
    "    '''\n",
    ")"
   ]
  },
  {
   "cell_type": "markdown",
   "metadata": {},
   "source": [
    "Obtenciond de taxi_trip y su transofrmacion"
   ]
  },
  {
   "cell_type": "markdown",
   "metadata": {},
   "source": [
    "Obtencion de grafica"
   ]
  },
  {
   "cell_type": "code",
   "execution_count": null,
   "metadata": {},
   "outputs": [],
   "source": [
    "# marge DropOff location\n",
    "taxi_trip_2018 = taxi_trip_2018.merge(df_Taxi_zone, how = 'left', right_on = 'LocationID', left_on = 'IdPULocation')\n",
    "#taxi_trip_2018.drop(columns= ['IdPULocation', 'LocationID'], inplace=True)\n",
    "taxi_trip_2018.rename(columns={'Borough' : 'boroughPU'}, inplace=True)"
   ]
  },
  {
   "cell_type": "code",
   "execution_count": null,
   "metadata": {},
   "outputs": [],
   "source": [
    "# marge entre columnas bla bla bla\n",
    "taxi_trip_2018 = taxi_trip_2018.merge(df_Taxi_zone, how = 'left', right_on = 'LocationID', left_on = 'IdDOLocation')\n",
    "#taxi_trip_2018.drop(columns= ['IdDOLocation', 'LocationID'], inplace=True)\n",
    "taxi_trip_2018.rename(columns={'Borough':'boroughDO'}, inplace=True)"
   ]
  },
  {
   "cell_type": "code",
   "execution_count": null,
   "metadata": {},
   "outputs": [],
   "source": [
    "z = (taxi_trip_2018.groupby(['boroughDO', 'boroughPU']).size()).unstack()"
   ]
  },
  {
   "cell_type": "code",
   "execution_count": null,
   "metadata": {},
   "outputs": [],
   "source": [
    "z.fillna(0, inplace=True)\n",
    "z.drop(columns=['EWR'], inplace=True)\n",
    "z.drop(['EWR'], axis=0, inplace=True)\n",
    "z.drop(columns=['Unknown'], axis=1 , inplace = True)\n",
    "z.drop(['Unknown'], axis=0, inplace=True)"
   ]
  },
  {
   "cell_type": "code",
   "execution_count": null,
   "metadata": {},
   "outputs": [],
   "source": [
    "c.unemp = z.sum().values\n",
    "c.loc[:,'unemp'] = ln(c.unemp)"
   ]
  },
  {
   "cell_type": "code",
   "execution_count": null,
   "metadata": {},
   "outputs": [],
   "source": [
    "fig = px.choropleth_mapbox(c, geojson=counties, locations='fips', color='unemp',\n",
    "                           color_continuous_scale=px.colors.sequential.Blues,\n",
    "                           range_color=(0, c.unemp.max()),\n",
    "                           mapbox_style=\"carto-positron\",\n",
    "                           zoom=9,\n",
    "                           center= {\"lat\": 40.7080747, \"lon\": -73.9810613},\n",
    "                           opacity=0.5,\n",
    "                           labels={'unemp':'trips scale'}\n",
    "                          )\n",
    "fig.update_layout(margin={\"r\":0,\"t\":0,\"l\":0,\"b\":0})\n",
    "fig.show()"
   ]
  }
 ],
 "metadata": {
  "kernelspec": {
   "display_name": "Python 3.10.4 ('dash-plotly')",
   "language": "python",
   "name": "python3"
  },
  "language_info": {
   "codemirror_mode": {
    "name": "ipython",
    "version": 3
   },
   "file_extension": ".py",
   "mimetype": "text/x-python",
   "name": "python",
   "nbconvert_exporter": "python",
   "pygments_lexer": "ipython3",
   "version": "3.10.4"
  },
  "orig_nbformat": 4,
  "vscode": {
   "interpreter": {
    "hash": "bce2f39b659fb33f6cc6493dc7d188b899294faf51b4d514c62305eab3b67bfa"
   }
  }
 },
 "nbformat": 4,
 "nbformat_minor": 2
}
