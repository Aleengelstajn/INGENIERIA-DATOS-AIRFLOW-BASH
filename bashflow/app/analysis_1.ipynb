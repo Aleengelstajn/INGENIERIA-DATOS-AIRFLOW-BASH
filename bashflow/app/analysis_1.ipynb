{
 "cells": [
  {
   "cell_type": "code",
   "execution_count": 1,
   "metadata": {},
   "outputs": [],
   "source": [
    "import db\n",
    "import pandas as pd\n",
    "import numpy as np\n",
    "import plotly.express as px\n",
    "from sklearn.model_selection import train_test_split\n",
    "from sklearn.linear_model import LinearRegression"
   ]
  },
  {
   "cell_type": "code",
   "execution_count": 2,
   "metadata": {},
   "outputs": [
    {
     "name": "stdout",
     "output_type": "stream",
     "text": [
      "[2022-07-28 14:50:41] - Iniciando conexion a base de datos...\n",
      "[2022-07-28 14:50:42] - Conexion Exitosa.\n",
      "[2022-07-28 14:50:59] - Tabla cargada exitosamente.\n"
     ]
    }
   ],
   "source": [
    "taxi_api = db.conn(\n",
    "    '''\n",
    "        select * from taxi_trips;\n",
    "    ''' \n",
    "    \n",
    ")"
   ]
  },
  {
   "cell_type": "code",
   "execution_count": 3,
   "metadata": {},
   "outputs": [],
   "source": [
    "# TODO: Analisis\n",
    "# parte de abajo\n",
    "taxi_api.drop(taxi_api[taxi_api['trip_distance'] == 0.0].index, inplace = True)\n",
    "taxi_api.drop(taxi_api[(taxi_api['trip_distance'] >= 0) & (taxi_api['total_amount_1']<=3)].index, inplace=True)\n",
    "taxi_api.drop(taxi_api[(taxi_api['trip_distance'] >=0.7 ) & (taxi_api['total_amount_1']<=4 )].index, inplace=True)\n",
    "taxi_api.drop(taxi_api[(taxi_api['trip_distance'] >=0.8 ) & (taxi_api['total_amount_1']<=4.3 )].index, inplace=True)\n",
    "taxi_api.drop(taxi_api[(taxi_api['trip_distance'] >=1) & (taxi_api['total_amount_1']<=4.4 )].index, inplace=True)\n",
    "taxi_api.drop(taxi_api[(taxi_api['trip_distance'] >=1.3) & (taxi_api['total_amount_1']<=5 )].index, inplace=True)\n",
    "taxi_api.drop(taxi_api[(taxi_api['trip_distance'] >= 1.5) & (taxi_api['total_amount_1']<=5.3)].index, inplace=True)\n",
    "taxi_api.drop(taxi_api[(taxi_api['trip_distance'] >= 2) & (taxi_api['total_amount_1']<=7)].index, inplace=True)\n",
    "taxi_api.drop(taxi_api[(taxi_api['trip_distance'] >= 2.3) & (taxi_api['total_amount_1']<=7.3)].index, inplace=True)\n",
    "taxi_api.drop(taxi_api[(taxi_api['trip_distance'] >= 3) & (taxi_api['total_amount_1']<=8.5)].index, inplace=True)\n",
    "taxi_api.drop(taxi_api[(taxi_api['trip_distance'] >= 3.5) & (taxi_api['total_amount_1']<=9)].index, inplace=True)\n",
    "taxi_api.drop(taxi_api[(taxi_api['trip_distance'] > 0) & (taxi_api['total_amount_1']>=40)].index, inplace=True)\n",
    "# parte de arriba\n",
    "taxi_api.drop(taxi_api[(taxi_api['trip_distance'] < 1) & (taxi_api['total_amount_1']>=25)].index, inplace=True)\n",
    "taxi_api.drop(taxi_api[(taxi_api['trip_distance'] < 3.5) & (taxi_api['total_amount_1']>=34)].index, inplace=True)\n",
    "# TODO:\n",
    "\n",
    "#fig.show()"
   ]
  },
  {
   "cell_type": "code",
   "execution_count": 4,
   "metadata": {},
   "outputs": [],
   "source": [
    "X_train, X_test, y_train, y_test= train_test_split(taxi_api.trip_distance,taxi_api.total_amount_1 , test_size=0.33, random_state=42)"
   ]
  },
  {
   "cell_type": "code",
   "execution_count": 5,
   "metadata": {},
   "outputs": [
    {
     "data": {
      "text/html": [
       "<style>#sk-container-id-1 {color: black;background-color: white;}#sk-container-id-1 pre{padding: 0;}#sk-container-id-1 div.sk-toggleable {background-color: white;}#sk-container-id-1 label.sk-toggleable__label {cursor: pointer;display: block;width: 100%;margin-bottom: 0;padding: 0.3em;box-sizing: border-box;text-align: center;}#sk-container-id-1 label.sk-toggleable__label-arrow:before {content: \"▸\";float: left;margin-right: 0.25em;color: #696969;}#sk-container-id-1 label.sk-toggleable__label-arrow:hover:before {color: black;}#sk-container-id-1 div.sk-estimator:hover label.sk-toggleable__label-arrow:before {color: black;}#sk-container-id-1 div.sk-toggleable__content {max-height: 0;max-width: 0;overflow: hidden;text-align: left;background-color: #f0f8ff;}#sk-container-id-1 div.sk-toggleable__content pre {margin: 0.2em;color: black;border-radius: 0.25em;background-color: #f0f8ff;}#sk-container-id-1 input.sk-toggleable__control:checked~div.sk-toggleable__content {max-height: 200px;max-width: 100%;overflow: auto;}#sk-container-id-1 input.sk-toggleable__control:checked~label.sk-toggleable__label-arrow:before {content: \"▾\";}#sk-container-id-1 div.sk-estimator input.sk-toggleable__control:checked~label.sk-toggleable__label {background-color: #d4ebff;}#sk-container-id-1 div.sk-label input.sk-toggleable__control:checked~label.sk-toggleable__label {background-color: #d4ebff;}#sk-container-id-1 input.sk-hidden--visually {border: 0;clip: rect(1px 1px 1px 1px);clip: rect(1px, 1px, 1px, 1px);height: 1px;margin: -1px;overflow: hidden;padding: 0;position: absolute;width: 1px;}#sk-container-id-1 div.sk-estimator {font-family: monospace;background-color: #f0f8ff;border: 1px dotted black;border-radius: 0.25em;box-sizing: border-box;margin-bottom: 0.5em;}#sk-container-id-1 div.sk-estimator:hover {background-color: #d4ebff;}#sk-container-id-1 div.sk-parallel-item::after {content: \"\";width: 100%;border-bottom: 1px solid gray;flex-grow: 1;}#sk-container-id-1 div.sk-label:hover label.sk-toggleable__label {background-color: #d4ebff;}#sk-container-id-1 div.sk-serial::before {content: \"\";position: absolute;border-left: 1px solid gray;box-sizing: border-box;top: 0;bottom: 0;left: 50%;z-index: 0;}#sk-container-id-1 div.sk-serial {display: flex;flex-direction: column;align-items: center;background-color: white;padding-right: 0.2em;padding-left: 0.2em;position: relative;}#sk-container-id-1 div.sk-item {position: relative;z-index: 1;}#sk-container-id-1 div.sk-parallel {display: flex;align-items: stretch;justify-content: center;background-color: white;position: relative;}#sk-container-id-1 div.sk-item::before, #sk-container-id-1 div.sk-parallel-item::before {content: \"\";position: absolute;border-left: 1px solid gray;box-sizing: border-box;top: 0;bottom: 0;left: 50%;z-index: -1;}#sk-container-id-1 div.sk-parallel-item {display: flex;flex-direction: column;z-index: 1;position: relative;background-color: white;}#sk-container-id-1 div.sk-parallel-item:first-child::after {align-self: flex-end;width: 50%;}#sk-container-id-1 div.sk-parallel-item:last-child::after {align-self: flex-start;width: 50%;}#sk-container-id-1 div.sk-parallel-item:only-child::after {width: 0;}#sk-container-id-1 div.sk-dashed-wrapped {border: 1px dashed gray;margin: 0 0.4em 0.5em 0.4em;box-sizing: border-box;padding-bottom: 0.4em;background-color: white;}#sk-container-id-1 div.sk-label label {font-family: monospace;font-weight: bold;display: inline-block;line-height: 1.2em;}#sk-container-id-1 div.sk-label-container {text-align: center;}#sk-container-id-1 div.sk-container {/* jupyter's `normalize.less` sets `[hidden] { display: none; }` but bootstrap.min.css set `[hidden] { display: none !important; }` so we also need the `!important` here to be able to override the default hidden behavior on the sphinx rendered scikit-learn.org. See: https://github.com/scikit-learn/scikit-learn/issues/21755 */display: inline-block !important;position: relative;}#sk-container-id-1 div.sk-text-repr-fallback {display: none;}</style><div id=\"sk-container-id-1\" class=\"sk-top-container\"><div class=\"sk-text-repr-fallback\"><pre>LinearRegression()</pre><b>In a Jupyter environment, please rerun this cell to show the HTML representation or trust the notebook. <br />On GitHub, the HTML representation is unable to render, please try loading this page with nbviewer.org.</b></div><div class=\"sk-container\" hidden><div class=\"sk-item\"><div class=\"sk-estimator sk-toggleable\"><input class=\"sk-toggleable__control sk-hidden--visually\" id=\"sk-estimator-id-1\" type=\"checkbox\" checked><label for=\"sk-estimator-id-1\" class=\"sk-toggleable__label sk-toggleable__label-arrow\">LinearRegression</label><div class=\"sk-toggleable__content\"><pre>LinearRegression()</pre></div></div></div></div></div>"
      ],
      "text/plain": [
       "LinearRegression()"
      ]
     },
     "execution_count": 5,
     "metadata": {},
     "output_type": "execute_result"
    }
   ],
   "source": [
    "lr=LinearRegression()\n",
    "lr.fit(X_train.values.reshape(-1,1),y_train.values)"
   ]
  },
  {
   "cell_type": "code",
   "execution_count": 6,
   "metadata": {},
   "outputs": [],
   "source": [
    "prediction=lr.predict(X_test.values.reshape(-1,1))\n",
    "\n",
    "#plt.figure(figsize=(13,8))\n",
    "#plt.plot(X_test,prediction,label='Linear Regresion', color='b')\n",
    "#plt.scatter(X_test, y_test, label='Actual Test data', color='g', alpha=.7)\n",
    "#plt.title('Distancia recorrida(millas) por el monto total')\n",
    "#plt.xlabel('distance(millas)')\n",
    "#plt.ylabel('total amount(U$D)')\n",
    "#plt.legend()\n",
    "#plt.show()"
   ]
  },
  {
   "cell_type": "code",
   "execution_count": 7,
   "metadata": {},
   "outputs": [
    {
     "name": "stdout",
     "output_type": "stream",
     "text": [
      "pendiente: [3.5579376]\n",
      "----------------------------------\n",
      "interseccion: 5.456725820638945\n"
     ]
    }
   ],
   "source": [
    "print('pendiente:', lr.coef_)\n",
    "print('----------------------------------')\n",
    "print('interseccion:', lr.intercept_)"
   ]
  },
  {
   "cell_type": "code",
   "execution_count": 8,
   "metadata": {},
   "outputs": [],
   "source": [
    "def price(param):\n",
    "    valor=lr.predict(np.array([[param]], dtype=float))[0]\n",
    "    print('El precio del viaje en', param ,'millas es: $',round(valor,2))\n",
    "    return valor"
   ]
  },
  {
   "cell_type": "code",
   "execution_count": 9,
   "metadata": {},
   "outputs": [
    {
     "name": "stdout",
     "output_type": "stream",
     "text": [
      "El precio del viaje en 5 millas es: $ 23.25\n"
     ]
    },
    {
     "data": {
      "text/plain": [
       "23.246413816217075"
      ]
     },
     "execution_count": 9,
     "metadata": {},
     "output_type": "execute_result"
    }
   ],
   "source": [
    "price(input('Ingresar distancia de viaje'))"
   ]
  },
  {
   "cell_type": "markdown",
   "metadata": {},
   "source": [
    "**Conclusion:** concluimos que...."
   ]
  },
  {
   "cell_type": "code",
   "execution_count": 10,
   "metadata": {},
   "outputs": [],
   "source": [
    "#fig = px.scatter(\n",
    "#    taxi_api, x=X_test, y=y_test, opacity=0.65,\n",
    "#    trendline='ols', trendline_color_override='darkblue'\n",
    "#)\n",
    "#fig.show()"
   ]
  },
  {
   "cell_type": "markdown",
   "metadata": {},
   "source": [
    "### recordar: un notebook por cada grafica y analisis"
   ]
  }
 ],
 "metadata": {
  "kernelspec": {
   "display_name": "Python 3.10.4 ('dash-plotly')",
   "language": "python",
   "name": "python3"
  },
  "language_info": {
   "codemirror_mode": {
    "name": "ipython",
    "version": 3
   },
   "file_extension": ".py",
   "mimetype": "text/x-python",
   "name": "python",
   "nbconvert_exporter": "python",
   "pygments_lexer": "ipython3",
   "version": "3.10.4"
  },
  "orig_nbformat": 4,
  "vscode": {
   "interpreter": {
    "hash": "bce2f39b659fb33f6cc6493dc7d188b899294faf51b4d514c62305eab3b67bfa"
   }
  }
 },
 "nbformat": 4,
 "nbformat_minor": 2
}
