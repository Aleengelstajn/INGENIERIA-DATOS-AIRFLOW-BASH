{
 "cells": [
  {
   "cell_type": "code",
   "execution_count": 10,
   "metadata": {},
   "outputs": [],
   "source": [
    "import db"
   ]
  },
  {
   "cell_type": "code",
   "execution_count": 11,
   "metadata": {},
   "outputs": [
    {
     "name": "stdout",
     "output_type": "stream",
     "text": [
      "[2022-07-25 17:04:26] - Iniciando conexion a base de datos...\n",
      "[2022-07-25 17:04:26] - Conexion Exitosa.\n",
      "[2022-07-25 17:04:30] - Tabla cargada exitosamente.\n"
     ]
    }
   ],
   "source": [
    "table = db.conn(\n",
    "    '''\n",
    "    select b.borough, t.fare_amount\n",
    "    from taxi_trips as t\n",
    "    inner join borough as b\n",
    "    on t.idborough = b.idborough;\n",
    "    '''\n",
    ")"
   ]
  },
  {
   "cell_type": "code",
   "execution_count": 12,
   "metadata": {},
   "outputs": [
    {
     "data": {
      "text/html": [
       "<div>\n",
       "<style scoped>\n",
       "    .dataframe tbody tr th:only-of-type {\n",
       "        vertical-align: middle;\n",
       "    }\n",
       "\n",
       "    .dataframe tbody tr th {\n",
       "        vertical-align: top;\n",
       "    }\n",
       "\n",
       "    .dataframe thead th {\n",
       "        text-align: right;\n",
       "    }\n",
       "</style>\n",
       "<table border=\"1\" class=\"dataframe\">\n",
       "  <thead>\n",
       "    <tr style=\"text-align: right;\">\n",
       "      <th></th>\n",
       "      <th>borough</th>\n",
       "      <th>fare_amount</th>\n",
       "    </tr>\n",
       "  </thead>\n",
       "  <tbody>\n",
       "    <tr>\n",
       "      <th>0</th>\n",
       "      <td>Manhattan</td>\n",
       "      <td>9.0</td>\n",
       "    </tr>\n",
       "    <tr>\n",
       "      <th>1</th>\n",
       "      <td>Manhattan</td>\n",
       "      <td>5.5</td>\n",
       "    </tr>\n",
       "    <tr>\n",
       "      <th>2</th>\n",
       "      <td>Queens</td>\n",
       "      <td>2.5</td>\n",
       "    </tr>\n",
       "    <tr>\n",
       "      <th>3</th>\n",
       "      <td>Manhattan</td>\n",
       "      <td>20.0</td>\n",
       "    </tr>\n",
       "    <tr>\n",
       "      <th>4</th>\n",
       "      <td>Manhattan</td>\n",
       "      <td>8.0</td>\n",
       "    </tr>\n",
       "    <tr>\n",
       "      <th>...</th>\n",
       "      <td>...</td>\n",
       "      <td>...</td>\n",
       "    </tr>\n",
       "    <tr>\n",
       "      <th>994917</th>\n",
       "      <td>Manhattan</td>\n",
       "      <td>7.0</td>\n",
       "    </tr>\n",
       "    <tr>\n",
       "      <th>994918</th>\n",
       "      <td>Manhattan</td>\n",
       "      <td>12.0</td>\n",
       "    </tr>\n",
       "    <tr>\n",
       "      <th>994919</th>\n",
       "      <td>Manhattan</td>\n",
       "      <td>14.5</td>\n",
       "    </tr>\n",
       "    <tr>\n",
       "      <th>994920</th>\n",
       "      <td>Manhattan</td>\n",
       "      <td>14.5</td>\n",
       "    </tr>\n",
       "    <tr>\n",
       "      <th>994921</th>\n",
       "      <td>Manhattan</td>\n",
       "      <td>16.0</td>\n",
       "    </tr>\n",
       "  </tbody>\n",
       "</table>\n",
       "<p>994922 rows × 2 columns</p>\n",
       "</div>"
      ],
      "text/plain": [
       "          borough  fare_amount\n",
       "0       Manhattan          9.0\n",
       "1       Manhattan          5.5\n",
       "2          Queens          2.5\n",
       "3       Manhattan         20.0\n",
       "4       Manhattan          8.0\n",
       "...           ...          ...\n",
       "994917  Manhattan          7.0\n",
       "994918  Manhattan         12.0\n",
       "994919  Manhattan         14.5\n",
       "994920  Manhattan         14.5\n",
       "994921  Manhattan         16.0\n",
       "\n",
       "[994922 rows x 2 columns]"
      ]
     },
     "execution_count": 12,
     "metadata": {},
     "output_type": "execute_result"
    }
   ],
   "source": [
    "table"
   ]
  },
  {
   "cell_type": "code",
   "execution_count": null,
   "metadata": {},
   "outputs": [],
   "source": [
    "# TODO: Mapa sencillo\n",
    "fig = px.choropleth(df, \n",
    "                    locations='id_borough', \n",
    "                    geojson=nyc_boroughs, \n",
    "                    color='Borough',\n",
    "                    scope='usa'\n",
    "                    )\n",
    "fig.update_geos(fitbounds=\"locations\", visible=False)\n"
   ]
  },
  {
   "cell_type": "code",
   "execution_count": null,
   "metadata": {},
   "outputs": [],
   "source": [
    "#df = df\n",
    "#geojson = nyc_boroughs\n",
    "#40.730610, and the longitude is -73.935242\n",
    "#fig = px.choropleth_mapbox(df, geojson=nyc_boroughs, color=\"Borough\",\n",
    "#                           locations=\"id_borough\", featureidkey=\"id\",\n",
    "#                           center={\"lat\": 40.730610, \"lon\": -73.935242},\n",
    "#                           mapbox_style=\"carto-positron\", zoom=9, opacity=0.3)\n",
    "#fig.update_layout(margin={\"r\":0,\"t\":0,\"l\":0,\"b\":0})\n",
    "#fig.show()\n"
   ]
  },
  {
   "cell_type": "code",
   "execution_count": null,
   "metadata": {},
   "outputs": [],
   "source": [
    "import plotly.express as px\n",
    "\n",
    "def medals_fig():\n",
    "    df = px.data.medals_long()\n",
    "    fig = px.bar(df, x=\"medal\", y=\"count\", color=\"nation\", text=\"nation\")\n",
    "\n",
    "    return fig\n"
   ]
  }
 ],
 "metadata": {
  "kernelspec": {
   "display_name": "Python 3.9.12 ('base')",
   "language": "python",
   "name": "python3"
  },
  "language_info": {
   "codemirror_mode": {
    "name": "ipython",
    "version": 3
   },
   "file_extension": ".py",
   "mimetype": "text/x-python",
   "name": "python",
   "nbconvert_exporter": "python",
   "pygments_lexer": "ipython3",
   "version": "3.9.12"
  },
  "orig_nbformat": 4,
  "vscode": {
   "interpreter": {
    "hash": "5f0ce51a8fa0afc60c9e4b966e3bc1e97cee447f242592f54f7cf2d7a2c8b21f"
   }
  }
 },
 "nbformat": 4,
 "nbformat_minor": 2
}
